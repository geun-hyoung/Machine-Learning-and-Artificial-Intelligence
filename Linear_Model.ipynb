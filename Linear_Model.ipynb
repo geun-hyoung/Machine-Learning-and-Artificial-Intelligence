{
  "nbformat": 4,
  "nbformat_minor": 0,
  "metadata": {
    "colab": {
      "private_outputs": true,
      "provenance": [],
      "include_colab_link": true
    },
    "kernelspec": {
      "name": "python3",
      "display_name": "Python 3"
    },
    "language_info": {
      "name": "python"
    }
  },
  "cells": [
    {
      "cell_type": "markdown",
      "metadata": {
        "id": "view-in-github",
        "colab_type": "text"
      },
      "source": [
        "<a href=\"https://colab.research.google.com/github/geun-hyoung/Data_Analysis/blob/main/Linear_Model.ipynb\" target=\"_parent\"><img src=\"https://colab.research.google.com/assets/colab-badge.svg\" alt=\"Open In Colab\"/></a>"
      ]
    },
    {
      "cell_type": "code",
      "execution_count": null,
      "metadata": {
        "id": "GG9NYBLoeLak"
      },
      "outputs": [],
      "source": [
        "import numpy as np\n",
        "import statsmodels.api as sm   ### statsmodels.api는 선형모델을 만들기 위한 라이브러리 ###\n",
        "from sklearn.preprocessing import scale\n",
        "import pandas as pd\n",
        "from scipy.stats import probplot\n",
        "import matplotlib.pyplot as plt\n",
        "from google.colab import drive    ### colab에서 데이터를 불러오기 위한 코드 ###\n",
        "drive.mount('/content/drive')        ### colab에서 데이터를 불러오는 라이브러리: drive   /   데이터가 저장된 폴더:  /content/drive'  ###"
      ]
    },
    {
      "cell_type": "code",
      "source": [
        "filename = '/content/drive/MyDrive/Colab Notebooks/WinterVacation/bostonhousing.csv'      ### ToyotaCorolla.csv라는 데이터가 저장된 경로를 filename에 저장 ###\n",
        "data = pd.read_csv(filename)     ### filename에 저장된 ToyotaCorolla.csv를 data1에 저장 ###\n",
        "data.head()        "
      ],
      "metadata": {
        "id": "bf0bkQtKepO2"
      },
      "execution_count": null,
      "outputs": []
    },
    {
      "cell_type": "code",
      "source": [
        "col_name = data.columns.tolist()\n",
        "print(col_name)"
      ],
      "metadata": {
        "id": "GxSFet5cedDY"
      },
      "execution_count": null,
      "outputs": []
    },
    {
      "cell_type": "code",
      "source": [
        "print(data.shape) "
      ],
      "metadata": {
        "id": "4K1IMTmpfnqZ"
      },
      "execution_count": null,
      "outputs": []
    },
    {
      "cell_type": "code",
      "source": [
        "print(np.arange(0, 10))"
      ],
      "metadata": {
        "id": "9mVqQVygfXGB"
      },
      "execution_count": null,
      "outputs": []
    },
    {
      "cell_type": "code",
      "source": [
        "data_regression = np.array(data)\n",
        "print(np.array(data_regression[:,np.arange(0,13)]))"
      ],
      "metadata": {
        "id": "gyZPMsMtaWYq"
      },
      "execution_count": null,
      "outputs": []
    },
    {
      "cell_type": "code",
      "source": [
        "# Csv > DataFrame(pandas) > array - statasmodel 함수의 사용 가능\n",
        "data_regression = np.array(data)\n",
        "X = np.array(data_regression[:,np.arange(0,13)]) # list indexing에서 콤마는 행과 열을 구분\n",
        "y = np.array(data_regression[:,13])"
      ],
      "metadata": {
        "id": "q9iuMl48fHLn"
      },
      "execution_count": null,
      "outputs": []
    },
    {
      "cell_type": "code",
      "source": [
        "X1 = scale(X)"
      ],
      "metadata": {
        "id": "vxhSOVEzm4cB"
      },
      "execution_count": null,
      "outputs": []
    },
    {
      "cell_type": "code",
      "source": [
        "print(X1)"
      ],
      "metadata": {
        "id": "TgEQbt8ubfqC"
      },
      "execution_count": null,
      "outputs": []
    },
    {
      "cell_type": "code",
      "source": [
        "print(y)"
      ],
      "metadata": {
        "id": "AZ63IgUObjAd"
      },
      "execution_count": null,
      "outputs": []
    },
    {
      "cell_type": "code",
      "source": [
        "regression_X = sm.add_constant(X1, prepend=False)      # y절편을 찾기 위해 첫번째 행은 모두 1로 채워진 행으로 구성해야 함 ###\n",
        "reg_model = sm.OLS(y, regression_X)     # OLS = 최소자승법\n",
        "model = reg_model.fit()"
      ],
      "metadata": {
        "id": "rsRbOa7wgIb2"
      },
      "execution_count": null,
      "outputs": []
    },
    {
      "cell_type": "markdown",
      "source": [
        "#### 데이터 분석 시 X의 계수만 보면 안됨 -> 값의 척도가 다르기 때문이다. -> 따라서 스케일링이 필요하다."
      ],
      "metadata": {
        "id": "hvXS9TQqhi0b"
      }
    },
    {
      "cell_type": "code",
      "source": [
        "print(model.summary())"
      ],
      "metadata": {
        "id": "vsNPBu3-gcWk"
      },
      "execution_count": null,
      "outputs": []
    },
    {
      "cell_type": "code",
      "source": [
        "## 선형 모델이 잘 만들었는지를 검증하기 위해 실제 값과 예측값이 얼마나 일치하는지를 확인해봐야 함 #\n",
        "predicted_value = model.predict()   ## res.predict()는 예측값을 도출하는 함수임 #\n",
        "\n",
        "##  실제 값과 예측값이 일치하는 정도를 시각적으로 확인 #\n",
        "import matplotlib.pylab as pylab\n",
        "\n",
        "z = np.polyfit(y, predicted_value, 1)\n",
        "p = np.poly1d(z)\n",
        "\n",
        "pylab.plot(y, predicted_value, 'o')      ## x축에는 실제 y값, y축에는 예측된 y값으로  설정하고, x와 y를 비교함 -> 점들이 최대한 일직선 (y=x 선) 위에 있을 수록 예측이 잘되었다고 판단할 수 있음#\n",
        "pylab.plot(predicted_value,p(predicted_value),\"r--\")\n",
        "print( \"y=%.6fx+(%.6f)\"%(z[0],z[1]))"
      ],
      "metadata": {
        "id": "DBtSjAickVFd"
      },
      "execution_count": null,
      "outputs": []
    },
    {
      "cell_type": "code",
      "source": [
        "# 잔차 (residuals) 란 실제 y값과 예측된 y값 간의 차이를 의미함 #\n",
        "# 선형모델의 중요한 가정: 잔차는 정규분포를 따른다! #\n",
        "residuals = model.resid\n",
        "\n",
        "plt.figure(figsize=(5,5))\n",
        "probplot(residuals,  dist=\"norm\", plot=plt)   # probplot이라는 함수는 잔차가 정규분포를 따르는지 확인하기 위한 함수 -> 점들이 붉은색 직선위에 있을 수록 잔차는 정규분포를 따를 가능성이 높다고 판단함 #\n",
        "plt.show()"
      ],
      "metadata": {
        "id": "gIOgNuLikY3l"
      },
      "execution_count": null,
      "outputs": []
    },
    {
      "cell_type": "markdown",
      "source": [
        "#### 이상치 제거"
      ],
      "metadata": {
        "id": "PvUh6swafqQb"
      }
    },
    {
      "cell_type": "code",
      "source": [
        " #일반적으로 잔차가 클 수록 정규분포에서 벗어나게 됨 -> 잔차가 크기가 상대적으로 큰 경우를 제거하고 선형모델을 다시 만드는 것이 좋음 #\n",
        "regression_X1 = regression_X[abs(residuals) < 5,]      # 잔차 (residuals에 저장됨)가 -3000보다 작거나, 3000보다 큰 경우를 제거하고 데이터를 다시 구성 -> 잔차가 크기가 상대적으로 큰 경우를 제거 #\n",
        "regression_y1 = y[abs(residuals) < 5,]                 # 잔차 (residuals에 저장됨)가 -3000보다 작거나, 3000보다 큰 경우를 제거하고 데이터를 다시 구성 -> 잔차가 크기가 상대적으로 큰 경우를 제거 #\n",
        "\n",
        "#regression_X1 = regression_X\n",
        "#regression_y1 = np.log(y)"
      ],
      "metadata": {
        "id": "BKn9k3JMmw3E"
      },
      "execution_count": null,
      "outputs": []
    },
    {
      "cell_type": "code",
      "source": [
        "reg_model1 = sm.OLS(regression_y1, regression_X1)\n",
        "model1 = reg_model1.fit()\n",
        "print(model1.summary())"
      ],
      "metadata": {
        "id": "l0vOqg9mni88"
      },
      "execution_count": null,
      "outputs": []
    },
    {
      "cell_type": "code",
      "source": [
        "predicted_value = model1.predict()\n",
        "\n",
        "##  실제 값과 예측값이 일치하는 정도를 시각적으로 확인 #\n",
        "z = np.polyfit(regression_y1, predicted_value, 1)\n",
        "p = np.poly1d(z)\n",
        "\n",
        "pylab.plot(regression_y1, predicted_value, 'o')          ## x축에는 실제 y값, y축에는 예측된 y값으로  설정하고, x와 y를 비교함 -> 점들이 최대한 일직선 (y=x 선) 위에 있을 수록 예측이 잘되었다고 판단할 수 있음#\n",
        "pylab.plot(predicted_value,p(predicted_value),\"r--\")\n",
        "\n",
        "print( \"y=%.6fx+(%.6f)\"%(z[0],z[1]))"
      ],
      "metadata": {
        "id": "7bCRsRZZny8K"
      },
      "execution_count": null,
      "outputs": []
    },
    {
      "cell_type": "code",
      "source": [
        "residuals = model1.resid\n",
        "\n",
        "plt.figure(figsize=(5,5))\n",
        "probplot(residuals,  dist=\"norm\", plot=plt)\n",
        "plt.show()"
      ],
      "metadata": {
        "id": "iDKBZFOdoRz8"
      },
      "execution_count": null,
      "outputs": []
    }
  ]
}