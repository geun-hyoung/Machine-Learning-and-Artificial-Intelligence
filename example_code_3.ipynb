{
  "nbformat": 4,
  "nbformat_minor": 0,
  "metadata": {
    "colab": {
      "private_outputs": true,
      "provenance": [],
      "include_colab_link": true
    },
    "kernelspec": {
      "name": "python3",
      "display_name": "Python 3"
    },
    "language_info": {
      "name": "python"
    }
  },
  "cells": [
    {
      "cell_type": "markdown",
      "metadata": {
        "id": "view-in-github",
        "colab_type": "text"
      },
      "source": [
        "<a href=\"https://colab.research.google.com/github/geun-hyoung/Data_Analysis/blob/main/example_code_3.ipynb\" target=\"_parent\"><img src=\"https://colab.research.google.com/assets/colab-badge.svg\" alt=\"Open In Colab\"/></a>"
      ]
    },
    {
      "cell_type": "code",
      "execution_count": null,
      "metadata": {
        "id": "AmkwlnTyile8"
      },
      "outputs": [],
      "source": [
        "import numpy as np\n",
        "import statsmodels.api as sm   ### statsmodels.api는 로지스틱모델을 만들기 위한 라이브러리 ###\n",
        "from sklearn.preprocessing import scale\n",
        "import pandas as pd\n",
        "from scipy.stats import probplot\n",
        "import matplotlib.pyplot as plt"
      ]
    },
    {
      "cell_type": "code",
      "source": [
        "from google.colab import drive    ### colab에서 데이터를 불러오기 위한 코드 ###\n",
        "drive.mount('/content/drive')        ### colab에서 데이터를 불러오는 라이브러리: drive   /   데이터가 저장된 폴더:  /content/drive'  ###\n",
        "filename = '/content/drive/My Drive/wdbc2.csv'      ### ToyotaCorolla.csv라는 데이터가 저장된 경로를 filename에 저장 ###\n",
        "data = pd.read_csv(filename)     ### filename에 저장된 urban.csv를 data1에 저장 ###\n",
        "data.head()"
      ],
      "metadata": {
        "id": "c53Af6hKjgXp"
      },
      "execution_count": null,
      "outputs": []
    },
    {
      "cell_type": "code",
      "source": [
        "col_name = data.columns.tolist()\n",
        "print(col_name)"
      ],
      "metadata": {
        "id": "fW8322oHj0Vo"
      },
      "execution_count": null,
      "outputs": []
    },
    {
      "cell_type": "code",
      "source": [
        "print(data.shape)"
      ],
      "metadata": {
        "id": "ieSl8IvYkCzk"
      },
      "execution_count": null,
      "outputs": []
    },
    {
      "cell_type": "code",
      "source": [
        "data_logistic = np.array(data)    # statsmodel의 함수를 쓰기 위해서는 데이터의 구조가 array 형태여야 함\n",
        "X = np.array(data_logistic[:,np.arange(0,9)])\n",
        "y = np.array(data_logistic[:,9])"
      ],
      "metadata": {
        "id": "M-U5--VskJw6"
      },
      "execution_count": null,
      "outputs": []
    },
    {
      "cell_type": "code",
      "source": [
        "print(y)"
      ],
      "metadata": {
        "id": "ttVwmAoKkV0z"
      },
      "execution_count": null,
      "outputs": []
    },
    {
      "cell_type": "code",
      "source": [
        "X1 = scale(X)\n",
        "X_logistic = sm.add_constant(X1, prepend=False)"
      ],
      "metadata": {
        "id": "2gns7OIqkY3N"
      },
      "execution_count": null,
      "outputs": []
    },
    {
      "cell_type": "code",
      "source": [
        "y_logistic = np.zeros((np.shape(X1)[0],1))\n",
        "y_logistic[y == 'malignant'] = 1          # Class 중 'benign'은 0번 Class로, 'malignant'는 1번 Class 로 설정하는 코드"
      ],
      "metadata": {
        "id": "0KfnS3fCkjaR"
      },
      "execution_count": null,
      "outputs": []
    },
    {
      "cell_type": "code",
      "source": [
        "logistic_model=sm.Logit(y_logistic,X_logistic)\n",
        "result=logistic_model.fit()\n",
        "print(result.summary())"
      ],
      "metadata": {
        "id": "xDqkxaoVkja8"
      },
      "execution_count": null,
      "outputs": []
    },
    {
      "cell_type": "code",
      "source": [
        "pred_prob = result.predict(X_logistic)     # 로지스틱 모델의 예측결과는 확률 값 (1번 Class에 속할 확률)로 나오게 됨\n",
        "print(pred_prob)"
      ],
      "metadata": {
        "id": "j5VHPFwylTQw"
      },
      "execution_count": null,
      "outputs": []
    },
    {
      "cell_type": "code",
      "source": [
        "pred = np.zeros((np.shape(X1)[0],1))\n",
        "\n",
        "cut_off = 0.5\n",
        "pred[pred_prob >= cut_off] = 1    # cut_off 값 (0.5)을 기준으로  cut off 값보다 큰 확률 값을 가지면 1번 클래스로, cut off 값보다 작은 확률 값을 가지면 0번 클래스로 최종 분류"
      ],
      "metadata": {
        "id": "j4N-iD1KlfYd"
      },
      "execution_count": null,
      "outputs": []
    },
    {
      "cell_type": "code",
      "source": [
        "from sklearn.metrics import confusion_matrix\n",
        "confusion_matrix(y_logistic, pred)"
      ],
      "metadata": {
        "id": "RnRK8II_l_pZ"
      },
      "execution_count": null,
      "outputs": []
    },
    {
      "cell_type": "code",
      "source": [
        "from sklearn import metrics\n",
        "fpr, tpr, thresholds = metrics.roc_curve(y_logistic, pred_prob, pos_label=1)\n",
        "roc_auc = metrics.auc(fpr, tpr)"
      ],
      "metadata": {
        "id": "mEt7i9h5nYIS"
      },
      "execution_count": null,
      "outputs": []
    },
    {
      "cell_type": "code",
      "source": [
        "plt.figure()\n",
        "plt.plot(fpr, tpr, label='ROC curve (area = %0.2f)' % roc_auc)\n",
        "plt.plot([0, 1], [0, 1], 'k--')\n",
        "plt.xlim([0.0, 1.0])\n",
        "plt.ylim([0.0, 1.05])\n",
        "plt.xlabel('False Positive Rate')\n",
        "plt.ylabel('True Positive Rate')\n",
        "plt.title('Receiver operating characteristic example')\n",
        "plt.legend(loc=\"lower right\")\n",
        "plt.show()\n",
        "print(roc_auc)"
      ],
      "metadata": {
        "id": "Wvieddgqn7G2"
      },
      "execution_count": null,
      "outputs": []
    },
    {
      "cell_type": "code",
      "source": [
        "pvalues_X = result.pvalues[np.arange(0,9)]\n",
        "print(pvalues_X)"
      ],
      "metadata": {
        "id": "x8kgo1S-oJbB"
      },
      "execution_count": null,
      "outputs": []
    },
    {
      "cell_type": "code",
      "source": [
        "X_index = np.arange(0,9)\n",
        "valid_X_index = X_index [pvalues_X < 0.05]\n",
        "X_logistic1 = X_logistic[:,valid_X_index]\n",
        "X_logistic1 = sm.add_constant(X_logistic1, prepend=False)"
      ],
      "metadata": {
        "id": "0LRSijHEoS9Q"
      },
      "execution_count": null,
      "outputs": []
    },
    {
      "cell_type": "code",
      "source": [
        "logit_model=sm.Logit(y_logistic,X_logistic1)\n",
        "result1=logit_model.fit()\n",
        "print(result1.summary())"
      ],
      "metadata": {
        "id": "1V08wuQPov8s"
      },
      "execution_count": null,
      "outputs": []
    },
    {
      "cell_type": "code",
      "source": [
        "pred_prob1 = result1.predict(X_logistic1)     # 로지스틱 모델의 예측결과는 확률 값 (1번 Class에 속할 확률)로 나오게 됨\n",
        "print(pred_prob1)"
      ],
      "metadata": {
        "id": "1BL21qpUo4Fj"
      },
      "execution_count": null,
      "outputs": []
    },
    {
      "cell_type": "code",
      "source": [
        "pred1 = np.zeros((np.shape(X1)[0],1))\n",
        "\n",
        "cut_off = 0.5\n",
        "pred1[pred_prob1 >= cut_off] = 1"
      ],
      "metadata": {
        "id": "21oVc5pPpIaQ"
      },
      "execution_count": null,
      "outputs": []
    },
    {
      "cell_type": "code",
      "source": [
        "from sklearn.metrics import confusion_matrix\n",
        "confusion_matrix(y_logistic, pred1)"
      ],
      "metadata": {
        "id": "5j7xk-1tpRTh"
      },
      "execution_count": null,
      "outputs": []
    },
    {
      "cell_type": "code",
      "source": [
        "from sklearn import metrics\n",
        "fpr, tpr, thresholds = metrics.roc_curve(y_logistic, pred_prob1, pos_label=1)\n",
        "roc_auc1 = metrics.auc(fpr, tpr)"
      ],
      "metadata": {
        "id": "cC0yq3VUqMWl"
      },
      "execution_count": null,
      "outputs": []
    },
    {
      "cell_type": "code",
      "source": [
        "plt.figure()\n",
        "plt.plot(fpr, tpr, label='ROC curve (area = %0.2f)' % roc_auc)\n",
        "plt.plot([0, 1], [0, 1], 'k--')\n",
        "plt.xlim([0.0, 1.0])\n",
        "plt.ylim([0.0, 1.05])\n",
        "plt.xlabel('False Positive Rate')\n",
        "plt.ylabel('True Positive Rate')\n",
        "plt.title('Receiver operating characteristic example')\n",
        "plt.legend(loc=\"lower right\")\n",
        "plt.show()\n",
        "print(roc_auc1)"
      ],
      "metadata": {
        "id": "bwlA9hV3qYWb"
      },
      "execution_count": null,
      "outputs": []
    }
  ]
}