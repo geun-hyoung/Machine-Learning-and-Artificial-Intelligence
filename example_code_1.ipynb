{
  "nbformat": 4,
  "nbformat_minor": 0,
  "metadata": {
    "colab": {
      "private_outputs": true,
      "provenance": [],
      "include_colab_link": true
    },
    "kernelspec": {
      "name": "python3",
      "display_name": "Python 3"
    },
    "language_info": {
      "name": "python"
    }
  },
  "cells": [
    {
      "cell_type": "markdown",
      "metadata": {
        "id": "view-in-github",
        "colab_type": "text"
      },
      "source": [
        "<a href=\"https://colab.research.google.com/github/geun-hyoung/Data_Analysis/blob/main/example_code_1.ipynb\" target=\"_parent\"><img src=\"https://colab.research.google.com/assets/colab-badge.svg\" alt=\"Open In Colab\"/></a>"
      ]
    },
    {
      "cell_type": "code",
      "execution_count": null,
      "metadata": {
        "id": "_0yLfwhcR5xx"
      },
      "outputs": [],
      "source": [
        "#셀 1 코드     ###   3-6-9 게임 예제   ###\n",
        "for i in range(1, 101):\n",
        "    \n",
        "    a = divmod(i,10)\n",
        "    \n",
        "    if (((a[1] == 3) or (a[1] == 6)) or (a[1] == 9)):\n",
        "        print(\"짝\")\n",
        "    elif (((a[0] == 3) or (a[0] == 6)) or (a[0] == 9)):\n",
        "        print(\"짝\")\n",
        "    else:\n",
        "        print(i)"
      ]
    },
    {
      "cell_type": "code",
      "source": [
        "import numpy as np\n",
        "import matplotlib.pyplot as plt               # matplotlib.pylot은 다양한 plot을 그리기 위한 라이브러리 #\n",
        "from sklearn.datasets import load_iris\n",
        "import pandas as pd        # pandas는 csv 파일을 불러오기 위한 라이브러리 #\n",
        "import pydotplus\n",
        "import seaborn as sns      # seaborn 라이브러리에서도 plot을 그릴 수 있음 #"
      ],
      "metadata": {
        "id": "SI3iAV2iR-Ai"
      },
      "execution_count": null,
      "outputs": []
    },
    {
      "cell_type": "code",
      "source": [
        "sns.get_dataset_names()"
      ],
      "metadata": {
        "id": "Yz-9lwAXT2Bf"
      },
      "execution_count": null,
      "outputs": []
    },
    {
      "cell_type": "code",
      "source": [
        "data = sns.load_dataset('diamonds')   # seaborn 라이브러리에 저장된 예제 데이터인 'tip' 데이터를 불러오는 코드 #\n",
        "data.shape\n",
        "data.head()   # 데이터가 제대로 불려졌는지 확인하는 코드 #"
      ],
      "metadata": {
        "id": "3AjChYA_SVY_"
      },
      "execution_count": null,
      "outputs": []
    },
    {
      "cell_type": "code",
      "source": [
        "#from google.colab import drive    ### colab에서 데이터를 불러오기 위한 코드 ###\n",
        "#drive.mount('/content/drive')        ### colab에서 데이터를 불러오는 라이브러리: drive   /   데이터가 저장된 폴더:  /content/drive'  ###\n",
        "#filename = '/content/drive/My Drive/ToyotaCorolla.csv'      ### urban.csv라는 데이터가 저장된 경로를 filename에 저장 ###\n",
        "#data = pd.read_csv(filename)     ### filename에 저장된 urban.csv를 data1에 저장 ###\n",
        "#data.head()        "
      ],
      "metadata": {
        "id": "LRDlgkyBcTbw"
      },
      "execution_count": null,
      "outputs": []
    },
    {
      "cell_type": "code",
      "source": [
        "# 히스토그램 그리기 #\n",
        "sns.histplot(data=data, x=\"price\")"
      ],
      "metadata": {
        "id": "xcSCMx2QWgVZ"
      },
      "execution_count": null,
      "outputs": []
    },
    {
      "cell_type": "code",
      "source": [
        "sns.histplot(data=data, x=\"price\", bins = 10)  # x축을 10개 구간으로 구분"
      ],
      "metadata": {
        "id": "15snINj8XMVv"
      },
      "execution_count": null,
      "outputs": []
    },
    {
      "cell_type": "code",
      "source": [
        "sns.histplot(data=data, x=\"price\", bins = 20, kde = 'true')  # x축을 20개 구간으로 구분하고, 확퓰분포 함수 모양 추정"
      ],
      "metadata": {
        "id": "d4IiPSUAXaLZ"
      },
      "execution_count": null,
      "outputs": []
    },
    {
      "cell_type": "code",
      "source": [
        "# Box plot에 plot 그리기 #\n",
        "plt.boxplot(data['price'])\n",
        "plt.show()"
      ],
      "metadata": {
        "id": "YNimMUN5SXOo"
      },
      "execution_count": null,
      "outputs": []
    },
    {
      "cell_type": "code",
      "source": [
        "# Box plot에 plot 제목과 x 축 이름 넣기, 이상 값들은 파란색 원으로 표시 #\n",
        "plt.boxplot(data['price'], sym=\"bo\")\n",
        "plt.title('Box plot of price')\n",
        "plt.xticks([1], ['price'])\n",
        "plt.show()"
      ],
      "metadata": {
        "id": "v9_MAruJSe8l"
      },
      "execution_count": null,
      "outputs": []
    },
    {
      "cell_type": "code",
      "source": [
        "# 한번에 여러개의 box plot #\n",
        "fig, ax = plt.subplots()\n",
        "ax.boxplot([data['depth'], data['table']], sym=\"b*\")\n",
        "plt.title('Multiple box plots of diamonds on one Axes')\n",
        "plt.xticks([1, 2], ['depth', 'table'])\n",
        "plt.show()"
      ],
      "metadata": {
        "id": "WfmB6c5oSmLq"
      },
      "execution_count": null,
      "outputs": []
    },
    {
      "cell_type": "code",
      "source": [],
      "metadata": {
        "id": "CVOQBugLT22B"
      },
      "execution_count": null,
      "outputs": []
    },
    {
      "cell_type": "code",
      "source": [
        "sns.boxplot(x=\"color\", y=\"price\", data=data)\n",
        "plt.show()"
      ],
      "metadata": {
        "id": "dvQEub8_VqRb"
      },
      "execution_count": null,
      "outputs": []
    },
    {
      "cell_type": "code",
      "source": [
        "sns.scatterplot(x = \"carat\", y = \"price\", data = data)"
      ],
      "metadata": {
        "id": "9vPd4RnublqK"
      },
      "execution_count": null,
      "outputs": []
    },
    {
      "cell_type": "code",
      "source": [
        "sns.relplot(x=\"carat\", y=\"price\", col=\"cut\",hue = \"color\", style = \"clarity\", data=data)"
      ],
      "metadata": {
        "id": "dYLAC6KlTe3f"
      },
      "execution_count": null,
      "outputs": []
    }
  ]
}